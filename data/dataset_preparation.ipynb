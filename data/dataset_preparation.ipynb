{
 "cells": [
  {
   "cell_type": "code",
   "execution_count": null,
   "outputs": [],
   "source": [
    "import os\n",
    "import Augmentor\n",
    "labels = [[], []]\n",
    "\n",
    "for i in os.walk('.'):\n",
    "    try:\n",
    "        change = i[0].strip('.\\\\')\n",
    "        if len(change) == 0 or change[0] != '+':\n",
    "            continue\n",
    "        p = Augmentor.Pipeline(change, output_directory='../train/')\n",
    "        p.resize(probability=0.5, width=512, height=512)\n",
    "        p.rotate_without_crop(probability=1.0, max_left_rotation=30, max_right_rotation=30)\n",
    "        p.random_brightness(probability=1, min_factor=0.7, max_factor=0.9)\n",
    "        p.random_color(probability=1, min_factor=0.7, max_factor=0.9)\n",
    "        p.random_contrast(probability=1, min_factor=0.7, max_factor=0.9)\n",
    "\n",
    "        p.sample(180)\n",
    "\n",
    "    except:\n",
    "        pass\n"
   ],
   "metadata": {
    "collapsed": false,
    "pycharm": {
     "name": "#%%\n"
    }
   }
  },
  {
   "cell_type": "code",
   "execution_count": null,
   "outputs": [],
   "source": [
    "import numpy as np\n",
    "import os\n",
    "from PIL import Image\n",
    "for filename in os.listdir( \"test_segmented\"):\n",
    "    name = os.path.join(\"test_segmented\", filename)\n",
    "    im = Image.open(name)\n",
    "\n",
    "    # Make Numpy array\n",
    "    ni = np.array(im)\n",
    "\n",
    "    # Mask pixels where Blue > 200\n",
    "    blues = ni[:,:,2]<120\n",
    "    ni[blues] = 0\n",
    "    # Save logical mask as PNG\n",
    "    Image.fromarray(ni).save('test_segmented_black_white/' + filename)"
   ],
   "metadata": {
    "collapsed": false,
    "pycharm": {
     "name": "#%%\n"
    }
   }
  },
  {
   "cell_type": "code",
   "execution_count": 16,
   "outputs": [],
   "source": [
    "import pandas as pd\n",
    "\n",
    "import os\n",
    "import numpy as np\n",
    "dct = dict()\n",
    "k = 1\n",
    "names_dct = dict()\n",
    "names = list()\n",
    "for name in os.listdir(\"haircurts\"):\n",
    "    names.append([k, name])\n",
    "    names_dct[name] = k\n",
    "    k += 1\n",
    "\n",
    "pd.DataFrame(np.asarray(names)).to_csv(\"haircuts.csv\")"
   ],
   "metadata": {
    "collapsed": false,
    "pycharm": {
     "name": "#%%\n"
    }
   }
  },
  {
   "cell_type": "code",
   "execution_count": 24,
   "outputs": [],
   "source": [
    "for filename in os.listdir(\"train_segmented_black_white\"):\n",
    "    for name in os.listdir(\"haircurts\"):\n",
    "        if filename.find(name) == 0:\n",
    "            dct[filename] = names_dct[name]\n",
    "            break\n",
    "lst = []\n",
    "for i in dct:\n",
    "    lst.append([dct[i], i])\n",
    "pd.DataFrame(np.asarray(lst)).to_csv(\"train_labels.csv\")"
   ],
   "metadata": {
    "collapsed": false,
    "pycharm": {
     "name": "#%%\n"
    }
   }
  },
  {
   "cell_type": "code",
   "execution_count": 2,
   "outputs": [],
   "source": [
    "import os, sys\n",
    "from PIL import Image\n",
    "\n",
    "size = 224, 224\n",
    "\n",
    "for infile in os.listdir(\"train_segmented_black_white\"):\n",
    "    im = Image.open(\"train_segmented_black_white/\" + infile)\n",
    "    im = im.resize((224,224))\n",
    "    im.save(\"train_segmented_black_white/\" + infile, \"png\")"
   ],
   "metadata": {
    "collapsed": false,
    "pycharm": {
     "name": "#%%\n"
    }
   }
  }
 ],
 "metadata": {
  "kernelspec": {
   "name": "pycharm-e70f7008",
   "language": "python",
   "display_name": "PyCharm (HW3 Neural Networks)"
  },
  "language_info": {
   "codemirror_mode": {
    "name": "ipython",
    "version": 2
   },
   "file_extension": ".py",
   "mimetype": "text/x-python",
   "name": "python",
   "nbconvert_exporter": "python",
   "pygments_lexer": "ipython2",
   "version": "2.7.6"
  }
 },
 "nbformat": 4,
 "nbformat_minor": 0
}